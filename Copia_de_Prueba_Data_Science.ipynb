{
  "nbformat": 4,
  "nbformat_minor": 0,
  "metadata": {
    "colab": {
      "provenance": [],
      "include_colab_link": true
    },
    "kernelspec": {
      "name": "python3",
      "display_name": "Python 3"
    },
    "accelerator": "GPU"
  },
  "cells": [
    {
      "cell_type": "markdown",
      "metadata": {
        "id": "view-in-github",
        "colab_type": "text"
      },
      "source": [
        "<a href=\"https://colab.research.google.com/github/JuanESteban201817451/Ciencia-Abierta/blob/main/Copia_de_Prueba_Data_Science.ipynb\" target=\"_parent\"><img src=\"https://colab.research.google.com/assets/colab-badge.svg\" alt=\"Open In Colab\"/></a>"
      ]
    },
    {
      "cell_type": "markdown",
      "metadata": {
        "id": "lASZHkVoAIIa"
      },
      "source": [
        "# **Prueba Data Scientist Habi**\n",
        "\n",
        "---\n",
        "\n"
      ]
    },
    {
      "cell_type": "markdown",
      "metadata": {
        "id": "WWppA5_xA00z"
      },
      "source": [
        "## **Antes de empezar**, por favor guarde este notebook como una copia personal, para no editar la versión original de esta. Esto lo puede hacer en File->Save a copy in Drive"
      ]
    },
    {
      "cell_type": "markdown",
      "source": [
        "## Configuracion Incial proyecto"
      ],
      "metadata": {
        "id": "fV213ZqW-qBJ"
      }
    },
    {
      "cell_type": "code",
      "source": [
        "import os\n",
        "\n",
        "os.makedirs(\"MiProyectoDataScience/datos\", exist_ok=True)\n",
        "os.makedirs(\"MiProyectoDataScience/utiles\", exist_ok=True)"
      ],
      "metadata": {
        "id": "SVdhck7D-bG-"
      },
      "execution_count": null,
      "outputs": []
    },
    {
      "cell_type": "code",
      "source": [
        "with open(\"MiProyectoDataScience/requirements.txt\", \"w\") as f:\n",
        "    f.write(\"pandas\\n\")\n",
        "    f.write(\"scikit-learn\\n\")\n",
        "    f.write(\"matplotlib\\n\")\n",
        "    f.write(\"numpy\\n\")"
      ],
      "metadata": {
        "id": "DUyvtskB-oVE"
      },
      "execution_count": null,
      "outputs": []
    },
    {
      "cell_type": "code",
      "source": [
        "%%writefile /content/MiProyectoDataScience/utiles/descargas.py\n",
        "\n",
        "import requests\n",
        "import pandas as pd\n",
        "import io\n",
        "import gzip\n",
        "import zipfile\n",
        "\n",
        "def descargar_y_cargar_df(url):\n",
        "    \"\"\"\n",
        "    Descarga un archivo desde una URL y lo convierte en un DataFrame de pandas.\n",
        "    Soporta archivos .json, .gz (JSON o CSV), y .zip (contiene .json o .csv).\n",
        "    \"\"\"\n",
        "    response = requests.get(url)\n",
        "    response.raise_for_status()\n",
        "    filename = url.split(\"/\")[-1].lower()\n",
        "\n",
        "    if filename.endswith(\".json\"):\n",
        "        return pd.read_json(io.BytesIO(response.content))\n",
        "    elif filename.endswith(\".gz\"):\n",
        "        with gzip.GzipFile(fileobj=io.BytesIO(response.content)) as gz:\n",
        "            try:\n",
        "                return pd.read_json(gz)\n",
        "            except ValueError:\n",
        "                gz.seek(0)\n",
        "                return pd.read_csv(gz)\n",
        "    elif filename.endswith(\".zip\"):\n",
        "        with zipfile.ZipFile(io.BytesIO(response.content)) as z:\n",
        "            for nombre in z.namelist():\n",
        "                if nombre.endswith(\".csv\"):\n",
        "                    with z.open(nombre) as f:\n",
        "                        return pd.read_csv(f)\n",
        "                elif nombre.endswith(\".json\"):\n",
        "                    with z.open(nombre) as f:\n",
        "                        return pd.read_json(f)\n",
        "    else:\n",
        "        raise ValueError(\"Formato de archivo no soportado.\")"
      ],
      "metadata": {
        "id": "W_kpKc1gAcue",
        "outputId": "21b19aa4-230b-4dab-9a7e-9a9d3c6318cd",
        "colab": {
          "base_uri": "https://localhost:8080/"
        }
      },
      "execution_count": null,
      "outputs": [
        {
          "output_type": "stream",
          "name": "stdout",
          "text": [
            "Writing /content/MiProyectoDataScience/utiles/descargas.py\n"
          ]
        }
      ]
    },
    {
      "cell_type": "markdown",
      "metadata": {
        "id": "v_GpaRzUAR8J"
      },
      "source": [
        "## **Punto 1**\n",
        "\n",
        "\n",
        "---\n",
        "\n"
      ]
    },
    {
      "cell_type": "markdown",
      "metadata": {
        "id": "ns3cKuMF9Kip"
      },
      "source": [
        "Descargar base de datos de UPLs (subdivisión urbana para Bogotá) y de inmuebles, todo con código. Es decir, utilizando las librerías necesarias para extraer datos desde internet sin necesidad de leerlos de manera local. Sugerimos la librería urllib.\n",
        "\n",
        "* UPLs: 'https://datosabiertos.bogota.gov.co/dataset/808582fc-ffc8-4649-8428-7e1fd8d3820c/resource/a5c8c591-0708-420f-8eb7-9f3147e21c40/download/unidadplaneamientolocal.json'\n",
        "* Inmuebles: 'https://storage.googleapis.com/pruebas-data-analitica/inmuebles_full.csv.gz'\n",
        "\n",
        "Esta segunda tabla tiene información de inmuebles publicados en páginas web.\n",
        "\n"
      ]
    },
    {
      "cell_type": "code",
      "metadata": {
        "id": "f7-mKM_UWfWC"
      },
      "source": [
        "\"\"\"\n",
        "Escriba aquí su código. De ser necesario, puede agregar más celdas.\n",
        "\"\"\"\n",
        "\n",
        "\n",
        "\n"
      ],
      "execution_count": null,
      "outputs": []
    },
    {
      "cell_type": "markdown",
      "metadata": {
        "id": "1IBTVcXmBuK5"
      },
      "source": [
        "## **Punto 2**\n",
        "\n",
        "---\n",
        "\n"
      ]
    },
    {
      "cell_type": "markdown",
      "metadata": {
        "id": "u6otTo2tBuWc"
      },
      "source": [
        "Hacer un join espacial entre la base de datos de UPLs e inmuebles y\n",
        "calcular cuántas ofertas inmobiliarias existen en Bogotá por UPL. Para esto sugerimos usar la librería de GeoPandas."
      ]
    },
    {
      "cell_type": "code",
      "metadata": {
        "id": "1fp4kVfwsVZA"
      },
      "source": [
        "\"\"\"\n",
        "Escriba aquí su código. De ser necesario, puede agregar más celdas.\n",
        "\"\"\"\n",
        "\n",
        "\n"
      ],
      "execution_count": null,
      "outputs": []
    },
    {
      "cell_type": "markdown",
      "metadata": {
        "id": "MCBj1yK0HjfZ"
      },
      "source": [
        "## **Punto 3**\n",
        "\n",
        "\n",
        "---\n",
        "\n"
      ]
    },
    {
      "cell_type": "markdown",
      "metadata": {
        "id": "BG80TdeAHjfZ"
      },
      "source": [
        "Use una visualización que permita ver cuántas ofertas de inmuebles existen por UPL."
      ]
    },
    {
      "cell_type": "code",
      "metadata": {
        "id": "5qSUt9FEHjfZ"
      },
      "source": [
        "*\"\"\"\n",
        "Escriba aquí su código. De ser necesario, puede agregar más celdas.\n",
        "\"\"\""
      ],
      "execution_count": null,
      "outputs": []
    },
    {
      "cell_type": "markdown",
      "metadata": {
        "id": "6M5wNTNKyXZo"
      },
      "source": [
        "# **Punto 4**"
      ]
    },
    {
      "cell_type": "markdown",
      "metadata": {
        "id": "73H0WsGaysDQ"
      },
      "source": [
        "Hacer una i de Moran para saber las UPLs HH, HL, LH y LL según el modelo para el valor por m2 de los inmuebles por UPL."
      ]
    },
    {
      "cell_type": "code",
      "metadata": {
        "id": "Bx-ow_UbyglP"
      },
      "source": [
        "\"\"\"\n",
        "Escriba aquí su código. De ser necesario, puede agregar más celdas.\n",
        "\"\"\""
      ],
      "execution_count": null,
      "outputs": []
    },
    {
      "cell_type": "markdown",
      "metadata": {
        "id": "CtXdUQaEyv4T"
      },
      "source": [
        "# **Punto 5**"
      ]
    },
    {
      "cell_type": "markdown",
      "metadata": {
        "id": "SxnBiIDCy7Ir"
      },
      "source": [
        "Hacer el modelo de predicción de precios de su preferencia para valorar los inmuebles proporcionados y presentar el MAPE y RMSE del resultado."
      ]
    },
    {
      "cell_type": "code",
      "metadata": {
        "id": "WPbBhgKlyyfV"
      },
      "source": [
        "\"\"\"\n",
        "Escriba aquí su código. De ser necesario, puede agregar más celdas.\n",
        "\"\"\""
      ],
      "execution_count": null,
      "outputs": []
    },
    {
      "cell_type": "markdown",
      "source": [
        "## **Punto 6**"
      ],
      "metadata": {
        "id": "yeeUHZLfUL_L"
      }
    },
    {
      "cell_type": "markdown",
      "source": [
        "Buscar y descargar base de datos de construcciones catastrales y base de datos de predios catastrales, todo con código. Es decir, utilizando las librerías necesarias para extraer datos desde internet sin necesidad de leerlos de manera local. Sugerimos la librería urllib. La información de estas fuentes la puede obtener de:\n",
        "\n",
        "1. Construcciones catastrales: 'https://datosabiertos.bogota.gov.co/dataset/397ccbd8-e2c5-4700-b90e-b68d101ab0c5/resource/7e426e92-c168-4a99-ab67-25b16f070a68/download/dcons_geoson.zip'\n",
        "2. Predios catastrales: 'https://datosabiertos.bogota.gov.co/dataset/e812efbe-acc3-4e70-9bfc-30fd2134afdd/resource/efb4e03d-173e-42b2-b35a-f10d6d610df2/download/predios_csv_1020.zip'"
      ],
      "metadata": {
        "id": "zK-8z58eT2LL"
      }
    },
    {
      "cell_type": "code",
      "source": [
        "\"\"\"\n",
        "Escriba aquí su código. De ser necesario, puede agregar más celdas.\n",
        "\"\"\""
      ],
      "metadata": {
        "id": "V2uigbDbWQU0"
      },
      "execution_count": null,
      "outputs": []
    },
    {
      "cell_type": "markdown",
      "source": [
        "Hacer un join espacial entre la base de datos de predios y la de UPLs y calcular cuántos predios residenciales existen en Bogotá por UPL."
      ],
      "metadata": {
        "id": "W0T8pHHOVahp"
      }
    },
    {
      "cell_type": "code",
      "source": [
        "\"\"\"\n",
        "Escriba aquí su código. De ser necesario, puede agregar más celdas.\n",
        "\"\"\""
      ],
      "metadata": {
        "id": "s-JZdQpUUJKj"
      },
      "execution_count": null,
      "outputs": []
    }
  ]
}